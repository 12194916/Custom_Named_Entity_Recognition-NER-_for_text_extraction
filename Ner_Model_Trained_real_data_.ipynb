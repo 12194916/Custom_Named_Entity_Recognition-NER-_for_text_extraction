{
  "cells": [
    {
      "cell_type": "code",
      "execution_count": null,
      "metadata": {
        "colab": {
          "base_uri": "https://localhost:8080/",
          "height": 1000
        },
        "id": "Hnh_ON3ZBvcn",
        "outputId": "801b90bc-df35-492c-bdee-aad1edc7f09c"
      },
      "outputs": [
        {
          "data": {
            "text/html": [
              "<div>\n",
              "<style scoped>\n",
              "    .dataframe tbody tr th:only-of-type {\n",
              "        vertical-align: middle;\n",
              "    }\n",
              "\n",
              "    .dataframe tbody tr th {\n",
              "        vertical-align: top;\n",
              "    }\n",
              "\n",
              "    .dataframe thead th {\n",
              "        text-align: right;\n",
              "    }\n",
              "</style>\n",
              "<table border=\"1\" class=\"dataframe\">\n",
              "  <thead>\n",
              "    <tr style=\"text-align: right;\">\n",
              "      <th></th>\n",
              "      <th>Unnamed: 0</th>\n",
              "      <th>description 2020</th>\n",
              "      <th>New</th>\n",
              "      <th>STATUS_ID1</th>\n",
              "      <th>STATUS_ID2</th>\n",
              "      <th>STATUS_ID3</th>\n",
              "    </tr>\n",
              "  </thead>\n",
              "  <tbody>\n",
              "    <tr>\n",
              "      <th>0</th>\n",
              "      <td>0</td>\n",
              "      <td>Оплата 100% сог RA 20128112605 от 02.02.2020г....</td>\n",
              "      <td>сог RA 20128112605 от 02.02.2020</td>\n",
              "      <td>сог</td>\n",
              "      <td>RA 20128112605</td>\n",
              "      <td>от 02.02.2020</td>\n",
              "    </tr>\n",
              "    <tr>\n",
              "      <th>1</th>\n",
              "      <td>1</td>\n",
              "      <td>08201 Оплата 100% сог RA 20134029596 от 08.05....</td>\n",
              "      <td>сог RA 20134029596 от 08.05.2020</td>\n",
              "      <td>сог</td>\n",
              "      <td>RA 20134029596</td>\n",
              "      <td>от 08.05.2020</td>\n",
              "    </tr>\n",
              "    <tr>\n",
              "      <th>2</th>\n",
              "      <td>2</td>\n",
              "      <td>08201 Оплата 100% сог RA 20131892258 от 05.03....</td>\n",
              "      <td>сог RA 20131892258 от 05.03.2020</td>\n",
              "      <td>сог</td>\n",
              "      <td>RA 20131892258</td>\n",
              "      <td>от 05.03.2020</td>\n",
              "    </tr>\n",
              "    <tr>\n",
              "      <th>3</th>\n",
              "      <td>3</td>\n",
              "      <td>08201 Оплата 100% сог RA 20131938903 от 07.03....</td>\n",
              "      <td>сог RA 20131938903 от 07.03.2020</td>\n",
              "      <td>сог</td>\n",
              "      <td>RA 20131938903</td>\n",
              "      <td>от 07.03.2020</td>\n",
              "    </tr>\n",
              "    <tr>\n",
              "      <th>4</th>\n",
              "      <td>4</td>\n",
              "      <td>08201 Оплата 100% сог RA 20137337576 от 02.07....</td>\n",
              "      <td>сог RA 20137337576 от 02.07.2020</td>\n",
              "      <td>сог</td>\n",
              "      <td>RA 20137337576</td>\n",
              "      <td>от 02.07.2020</td>\n",
              "    </tr>\n",
              "    <tr>\n",
              "      <th>...</th>\n",
              "      <td>...</td>\n",
              "      <td>...</td>\n",
              "      <td>...</td>\n",
              "      <td>...</td>\n",
              "      <td>...</td>\n",
              "      <td>...</td>\n",
              "    </tr>\n",
              "    <tr>\n",
              "      <th>198827</th>\n",
              "      <td>198827</td>\n",
              "      <td>Оплата 100% сог RA 201277664416  от 25.01.2020...</td>\n",
              "      <td>сог RA 201277664416  от 25.01.2020</td>\n",
              "      <td>сог</td>\n",
              "      <td>RA 201277664416</td>\n",
              "      <td>от 25.01.2020</td>\n",
              "    </tr>\n",
              "    <tr>\n",
              "      <th>198828</th>\n",
              "      <td>198828</td>\n",
              "      <td>Оплата 100% сог RA 20124019385  от 27.12.2019 ...</td>\n",
              "      <td>сог RA 20124019385  от 27.12.2019</td>\n",
              "      <td>сог</td>\n",
              "      <td>RA 20124019385</td>\n",
              "      <td>от 27.12.2019</td>\n",
              "    </tr>\n",
              "    <tr>\n",
              "      <th>198829</th>\n",
              "      <td>198829</td>\n",
              "      <td>Оплата 100% сог RA 20128358035  от 04.02.2020 ...</td>\n",
              "      <td>сог RA 20128358035  от 04.02.2020</td>\n",
              "      <td>сог</td>\n",
              "      <td>RA 20128358035</td>\n",
              "      <td>от 04.02.2020</td>\n",
              "    </tr>\n",
              "    <tr>\n",
              "      <th>198830</th>\n",
              "      <td>198830</td>\n",
              "      <td>Оплата 100% сог RA 20375502824  от 10.09.2020 ...</td>\n",
              "      <td>сог RA 20375502824  от 10.09.2020</td>\n",
              "      <td>сог</td>\n",
              "      <td>RA 20375502824</td>\n",
              "      <td>от 10.09.2020</td>\n",
              "    </tr>\n",
              "    <tr>\n",
              "      <th>198831</th>\n",
              "      <td>198831</td>\n",
              "      <td>Оплата 100% сог RA 20202826418  от 01.09.2020 ...</td>\n",
              "      <td>сог RA 20202826418  от 01.09.2020</td>\n",
              "      <td>сог</td>\n",
              "      <td>RA 20202826418</td>\n",
              "      <td>от 01.09.2020</td>\n",
              "    </tr>\n",
              "  </tbody>\n",
              "</table>\n",
              "<p>198832 rows × 6 columns</p>\n",
              "</div>"
            ],
            "text/plain": [
              "        Unnamed: 0                                   description 2020  \\\n",
              "0                0  Оплата 100% сог RA 20128112605 от 02.02.2020г....   \n",
              "1                1  08201 Оплата 100% сог RA 20134029596 от 08.05....   \n",
              "2                2  08201 Оплата 100% сог RA 20131892258 от 05.03....   \n",
              "3                3  08201 Оплата 100% сог RA 20131938903 от 07.03....   \n",
              "4                4  08201 Оплата 100% сог RA 20137337576 от 02.07....   \n",
              "...            ...                                                ...   \n",
              "198827      198827  Оплата 100% сог RA 201277664416  от 25.01.2020...   \n",
              "198828      198828  Оплата 100% сог RA 20124019385  от 27.12.2019 ...   \n",
              "198829      198829  Оплата 100% сог RA 20128358035  от 04.02.2020 ...   \n",
              "198830      198830  Оплата 100% сог RA 20375502824  от 10.09.2020 ...   \n",
              "198831      198831  Оплата 100% сог RA 20202826418  от 01.09.2020 ...   \n",
              "\n",
              "                                       New STATUS_ID1       STATUS_ID2  \\\n",
              "0         сог RA 20128112605 от 02.02.2020        сог   RA 20128112605   \n",
              "1         сог RA 20134029596 от 08.05.2020        сог   RA 20134029596   \n",
              "2         сог RA 20131892258 от 05.03.2020        сог   RA 20131892258   \n",
              "3         сог RA 20131938903 от 07.03.2020        сог   RA 20131938903   \n",
              "4         сог RA 20137337576 от 02.07.2020        сог   RA 20137337576   \n",
              "...                                    ...        ...              ...   \n",
              "198827  сог RA 201277664416  от 25.01.2020        сог  RA 201277664416   \n",
              "198828   сог RA 20124019385  от 27.12.2019        сог   RA 20124019385   \n",
              "198829   сог RA 20128358035  от 04.02.2020        сог   RA 20128358035   \n",
              "198830   сог RA 20375502824  от 10.09.2020        сог   RA 20375502824   \n",
              "198831   сог RA 20202826418  от 01.09.2020        сог   RA 20202826418   \n",
              "\n",
              "            STATUS_ID3  \n",
              "0        от 02.02.2020  \n",
              "1        от 08.05.2020  \n",
              "2        от 05.03.2020  \n",
              "3        от 07.03.2020  \n",
              "4        от 02.07.2020  \n",
              "...                ...  \n",
              "198827   от 25.01.2020  \n",
              "198828   от 27.12.2019  \n",
              "198829   от 04.02.2020  \n",
              "198830   от 10.09.2020  \n",
              "198831   от 01.09.2020  \n",
              "\n",
              "[198832 rows x 6 columns]"
            ]
          },
          "execution_count": 17,
          "metadata": {},
          "output_type": "execute_result"
        }
      ],
      "source": [
        "import pandas as pd\n",
        "import numpy as np\n",
        "df = pd.read_csv(\"data.csv\")\n",
        "df"
      ]
    },
    {
      "cell_type": "code",
      "execution_count": null,
      "metadata": {
        "id": "l_Ks-Dwkvf_w"
      },
      "outputs": [],
      "source": [
        "df=df.drop([\"Unnamed: 0\",\"New\",\t\"STATUS_ID1\"], axis=1)"
      ]
    },
    {
      "cell_type": "code",
      "execution_count": null,
      "metadata": {
        "colab": {
          "base_uri": "https://localhost:8080/"
        },
        "id": "xOUCz1Rz2HSA",
        "outputId": "c6012a5c-78d2-44f5-bcc6-36bc730721bb"
      },
      "outputs": [
        {
          "data": {
            "text/plain": [
              "description 2020       0\n",
              "STATUS_ID2            20\n",
              "STATUS_ID3          1208\n",
              "dtype: int64"
            ]
          },
          "execution_count": 19,
          "metadata": {},
          "output_type": "execute_result"
        }
      ],
      "source": [
        "df.isnull().sum()"
      ]
    },
    {
      "cell_type": "code",
      "execution_count": null,
      "metadata": {
        "id": "J1Rj5aL1wOF0"
      },
      "outputs": [],
      "source": [
        "df=df.dropna()"
      ]
    },
    {
      "cell_type": "code",
      "execution_count": null,
      "metadata": {
        "colab": {
          "base_uri": "https://localhost:8080/",
          "height": 641
        },
        "id": "ZlqHrDLF4RLm",
        "outputId": "62d3ee8a-e855-4db3-85f1-266735b5a1f1"
      },
      "outputs": [
        {
          "data": {
            "text/html": [
              "<div>\n",
              "<style scoped>\n",
              "    .dataframe tbody tr th:only-of-type {\n",
              "        vertical-align: middle;\n",
              "    }\n",
              "\n",
              "    .dataframe tbody tr th {\n",
              "        vertical-align: top;\n",
              "    }\n",
              "\n",
              "    .dataframe thead th {\n",
              "        text-align: right;\n",
              "    }\n",
              "</style>\n",
              "<table border=\"1\" class=\"dataframe\">\n",
              "  <thead>\n",
              "    <tr style=\"text-align: right;\">\n",
              "      <th></th>\n",
              "      <th>description 2020</th>\n",
              "      <th>STATUS_ID2</th>\n",
              "      <th>STATUS_ID3</th>\n",
              "    </tr>\n",
              "  </thead>\n",
              "  <tbody>\n",
              "    <tr>\n",
              "      <th>0</th>\n",
              "      <td>Оплата 100% сог RA 20128112605 от 02.02.2020г....</td>\n",
              "      <td>RA 20128112605</td>\n",
              "      <td>от 02.02.2020</td>\n",
              "    </tr>\n",
              "    <tr>\n",
              "      <th>1</th>\n",
              "      <td>08201 Оплата 100% сог RA 20134029596 от 08.05....</td>\n",
              "      <td>RA 20134029596</td>\n",
              "      <td>от 08.05.2020</td>\n",
              "    </tr>\n",
              "    <tr>\n",
              "      <th>2</th>\n",
              "      <td>08201 Оплата 100% сог RA 20131892258 от 05.03....</td>\n",
              "      <td>RA 20131892258</td>\n",
              "      <td>от 05.03.2020</td>\n",
              "    </tr>\n",
              "    <tr>\n",
              "      <th>3</th>\n",
              "      <td>08201 Оплата 100% сог RA 20131938903 от 07.03....</td>\n",
              "      <td>RA 20131938903</td>\n",
              "      <td>от 07.03.2020</td>\n",
              "    </tr>\n",
              "    <tr>\n",
              "      <th>4</th>\n",
              "      <td>08201 Оплата 100% сог RA 20137337576 от 02.07....</td>\n",
              "      <td>RA 20137337576</td>\n",
              "      <td>от 02.07.2020</td>\n",
              "    </tr>\n",
              "    <tr>\n",
              "      <th>...</th>\n",
              "      <td>...</td>\n",
              "      <td>...</td>\n",
              "      <td>...</td>\n",
              "    </tr>\n",
              "    <tr>\n",
              "      <th>198827</th>\n",
              "      <td>Оплата 100% сог RA 201277664416  от 25.01.2020...</td>\n",
              "      <td>RA 201277664416</td>\n",
              "      <td>от 25.01.2020</td>\n",
              "    </tr>\n",
              "    <tr>\n",
              "      <th>198828</th>\n",
              "      <td>Оплата 100% сог RA 20124019385  от 27.12.2019 ...</td>\n",
              "      <td>RA 20124019385</td>\n",
              "      <td>от 27.12.2019</td>\n",
              "    </tr>\n",
              "    <tr>\n",
              "      <th>198829</th>\n",
              "      <td>Оплата 100% сог RA 20128358035  от 04.02.2020 ...</td>\n",
              "      <td>RA 20128358035</td>\n",
              "      <td>от 04.02.2020</td>\n",
              "    </tr>\n",
              "    <tr>\n",
              "      <th>198830</th>\n",
              "      <td>Оплата 100% сог RA 20375502824  от 10.09.2020 ...</td>\n",
              "      <td>RA 20375502824</td>\n",
              "      <td>от 10.09.2020</td>\n",
              "    </tr>\n",
              "    <tr>\n",
              "      <th>198831</th>\n",
              "      <td>Оплата 100% сог RA 20202826418  от 01.09.2020 ...</td>\n",
              "      <td>RA 20202826418</td>\n",
              "      <td>от 01.09.2020</td>\n",
              "    </tr>\n",
              "  </tbody>\n",
              "</table>\n",
              "<p>197604 rows × 3 columns</p>\n",
              "</div>"
            ],
            "text/plain": [
              "                                         description 2020       STATUS_ID2  \\\n",
              "0       Оплата 100% сог RA 20128112605 от 02.02.2020г....   RA 20128112605   \n",
              "1       08201 Оплата 100% сог RA 20134029596 от 08.05....   RA 20134029596   \n",
              "2       08201 Оплата 100% сог RA 20131892258 от 05.03....   RA 20131892258   \n",
              "3       08201 Оплата 100% сог RA 20131938903 от 07.03....   RA 20131938903   \n",
              "4       08201 Оплата 100% сог RA 20137337576 от 02.07....   RA 20137337576   \n",
              "...                                                   ...              ...   \n",
              "198827  Оплата 100% сог RA 201277664416  от 25.01.2020...  RA 201277664416   \n",
              "198828  Оплата 100% сог RA 20124019385  от 27.12.2019 ...   RA 20124019385   \n",
              "198829  Оплата 100% сог RA 20128358035  от 04.02.2020 ...   RA 20128358035   \n",
              "198830  Оплата 100% сог RA 20375502824  от 10.09.2020 ...   RA 20375502824   \n",
              "198831  Оплата 100% сог RA 20202826418  от 01.09.2020 ...   RA 20202826418   \n",
              "\n",
              "            STATUS_ID3  \n",
              "0        от 02.02.2020  \n",
              "1        от 08.05.2020  \n",
              "2        от 05.03.2020  \n",
              "3        от 07.03.2020  \n",
              "4        от 02.07.2020  \n",
              "...                ...  \n",
              "198827   от 25.01.2020  \n",
              "198828   от 27.12.2019  \n",
              "198829   от 04.02.2020  \n",
              "198830   от 10.09.2020  \n",
              "198831   от 01.09.2020  \n",
              "\n",
              "[197604 rows x 3 columns]"
            ]
          },
          "execution_count": 21,
          "metadata": {},
          "output_type": "execute_result"
        }
      ],
      "source": [
        "df"
      ]
    },
    {
      "cell_type": "code",
      "execution_count": null,
      "metadata": {
        "id": "hauZ5i1F56wo"
      },
      "outputs": [],
      "source": [
        "df = df.rename(columns={'description 2020': 'Text', 'STATUS_ID2': 'ID', 'STATUS_ID3': 'Date'})"
      ]
    },
    {
      "cell_type": "code",
      "execution_count": null,
      "metadata": {
        "id": "4ayRYaeM6vqO"
      },
      "outputs": [],
      "source": [
        "df['Date'] = df['Date'].apply(lambda x: x[x.index('от'):] if 'от' in x else x)\n",
        "df['Date'] = df['Date'].apply(lambda x: x[x.index('с'):] if 'с' in x else x)"
      ]
    },
    {
      "cell_type": "code",
      "execution_count": null,
      "metadata": {
        "colab": {
          "base_uri": "https://localhost:8080/",
          "height": 1000
        },
        "id": "MxS-qNKXYTzC",
        "outputId": "499cfef2-c415-4eb7-d40b-8abf48e0c303"
      },
      "outputs": [
        {
          "data": {
            "text/html": [
              "<div>\n",
              "<style scoped>\n",
              "    .dataframe tbody tr th:only-of-type {\n",
              "        vertical-align: middle;\n",
              "    }\n",
              "\n",
              "    .dataframe tbody tr th {\n",
              "        vertical-align: top;\n",
              "    }\n",
              "\n",
              "    .dataframe thead th {\n",
              "        text-align: right;\n",
              "    }\n",
              "</style>\n",
              "<table border=\"1\" class=\"dataframe\">\n",
              "  <thead>\n",
              "    <tr style=\"text-align: right;\">\n",
              "      <th></th>\n",
              "      <th>Text</th>\n",
              "      <th>ID</th>\n",
              "      <th>Date</th>\n",
              "    </tr>\n",
              "  </thead>\n",
              "  <tbody>\n",
              "    <tr>\n",
              "      <th>163822</th>\n",
              "      <td>Оплата  100% по договору № 38-2020 от 08.03.20...</td>\n",
              "      <td>№ 38-2020</td>\n",
              "      <td>от 08.03.2020</td>\n",
              "    </tr>\n",
              "    <tr>\n",
              "      <th>113191</th>\n",
              "      <td>00520Оплата по договору №8 от 03.01.2020 год з...</td>\n",
              "      <td>№8</td>\n",
              "      <td>от 03.01.2020</td>\n",
              "    </tr>\n",
              "    <tr>\n",
              "      <th>44729</th>\n",
              "      <td>~401421860262697950100054003~200540827~Оплата ...</td>\n",
              "      <td>№ 0444</td>\n",
              "      <td>от 10.02.2020</td>\n",
              "    </tr>\n",
              "    <tr>\n",
              "      <th>150670</th>\n",
              "      <td>00661 Оплата 100 % удержание из з/платы Гапурж...</td>\n",
              "      <td>100320004228</td>\n",
              "      <td>25.09.2020</td>\n",
              "    </tr>\n",
              "    <tr>\n",
              "      <th>124781</th>\n",
              "      <td>00668 BC 08.06.2020 погашение Исходящие эл.пла...</td>\n",
              "      <td>-1000.00</td>\n",
              "      <td>от 08.06.2020</td>\n",
              "    </tr>\n",
              "    <tr>\n",
              "      <th>12778</th>\n",
              "      <td>Оплата 50% за строй материалы по договору № G-...</td>\n",
              "      <td>№ G-332</td>\n",
              "      <td>от 15.07.2020</td>\n",
              "    </tr>\n",
              "    <tr>\n",
              "      <th>32088</th>\n",
              "      <td>100% Оплата за повеш. квалиф. спец. сог дог № ...</td>\n",
              "      <td>№ 17</td>\n",
              "      <td>от 29.01.2020</td>\n",
              "    </tr>\n",
              "    <tr>\n",
              "      <th>89109</th>\n",
              "      <td>00668 предоп. 100% Готовые оконные конструкции...</td>\n",
              "      <td>№325</td>\n",
              "      <td>от 02.09.2020</td>\n",
              "    </tr>\n",
              "    <tr>\n",
              "      <th>137384</th>\n",
              "      <td>00599 по дог 01 от 25.01.2020 за перила оплата...</td>\n",
              "      <td>01</td>\n",
              "      <td>25.01.2020</td>\n",
              "    </tr>\n",
              "    <tr>\n",
              "      <th>177451</th>\n",
              "      <td>Оплата 50% за кран для радиотора  по договору ...</td>\n",
              "      <td>№ 86/08</td>\n",
              "      <td>от 03.08.2020</td>\n",
              "    </tr>\n",
              "    <tr>\n",
              "      <th>44133</th>\n",
              "      <td>Комиссия банка за валютный перев сог расп №18 ...</td>\n",
              "      <td>№18</td>\n",
              "      <td>от 10.03.2020</td>\n",
              "    </tr>\n",
              "    <tr>\n",
              "      <th>155791</th>\n",
              "      <td>00599 Оплата 100% по договору  876 от 25.11.20...</td>\n",
              "      <td>876</td>\n",
              "      <td>25.11.2020</td>\n",
              "    </tr>\n",
              "    <tr>\n",
              "      <th>35674</th>\n",
              "      <td>00668передоплата за готовую конструкции из ПВХ...</td>\n",
              "      <td>№ 12</td>\n",
              "      <td>от 04.01.2020</td>\n",
              "    </tr>\n",
              "    <tr>\n",
              "      <th>80690</th>\n",
              "      <td>00668 Оплата 100% за проведению экспертизы по ...</td>\n",
              "      <td>№ 968</td>\n",
              "      <td>от 17.08.2020</td>\n",
              "    </tr>\n",
              "    <tr>\n",
              "      <th>63132</th>\n",
              "      <td>За  за прием и рассм док-1000.00, за документ ...</td>\n",
              "      <td>№1504</td>\n",
              "      <td>с 01.05.2019</td>\n",
              "    </tr>\n",
              "    <tr>\n",
              "      <th>162131</th>\n",
              "      <td>Оплата 100%  по договору субаренды № 10А от 03...</td>\n",
              "      <td>№ 10А</td>\n",
              "      <td>от 03.01.2020</td>\n",
              "    </tr>\n",
              "    <tr>\n",
              "      <th>43489</th>\n",
              "      <td>Зачисл денеж средс п/п №340 от 06.03.2020г сог...</td>\n",
              "      <td>№340</td>\n",
              "      <td>от 06.03.2020</td>\n",
              "    </tr>\n",
              "    <tr>\n",
              "      <th>80644</th>\n",
              "      <td>Оплата по договору № 4232 от 17.08.2020 г за э...</td>\n",
              "      <td>№ 4232</td>\n",
              "      <td>от 17.08.2020</td>\n",
              "    </tr>\n",
              "    <tr>\n",
              "      <th>171317</th>\n",
              "      <td>Оплата 100% за строительные материалы согл дог...</td>\n",
              "      <td>№002/90</td>\n",
              "      <td>от 18.06.2020</td>\n",
              "    </tr>\n",
              "    <tr>\n",
              "      <th>6064</th>\n",
              "      <td>Неотложные нужды услуги интернет за март 2020г...</td>\n",
              "      <td>№INET/18-2019</td>\n",
              "      <td>от 30.04.2019</td>\n",
              "    </tr>\n",
              "  </tbody>\n",
              "</table>\n",
              "</div>"
            ],
            "text/plain": [
              "                                                     Text              ID  \\\n",
              "163822  Оплата  100% по договору № 38-2020 от 08.03.20...      № 38-2020    \n",
              "113191  00520Оплата по договору №8 от 03.01.2020 год з...             №8    \n",
              "44729   ~401421860262697950100054003~200540827~Оплата ...         № 0444    \n",
              "150670  00661 Оплата 100 % удержание из з/платы Гапурж...   100320004228    \n",
              "124781  00668 BC 08.06.2020 погашение Исходящие эл.пла...        -1000.00   \n",
              "12778   Оплата 50% за строй материалы по договору № G-...        № G-332    \n",
              "32088   100% Оплата за повеш. квалиф. спец. сог дог № ...           № 17    \n",
              "89109   00668 предоп. 100% Готовые оконные конструкции...           №325    \n",
              "137384  00599 по дог 01 от 25.01.2020 за перила оплата...             01    \n",
              "177451  Оплата 50% за кран для радиотора  по договору ...        № 86/08    \n",
              "44133   Комиссия банка за валютный перев сог расп №18 ...            №18    \n",
              "155791  00599 Оплата 100% по договору  876 от 25.11.20...            876    \n",
              "35674   00668передоплата за готовую конструкции из ПВХ...           № 12    \n",
              "80690   00668 Оплата 100% за проведению экспертизы по ...          № 968    \n",
              "63132   За  за прием и рассм док-1000.00, за документ ...          №1504    \n",
              "162131  Оплата 100%  по договору субаренды № 10А от 03...          № 10А    \n",
              "43489   Зачисл денеж средс п/п №340 от 06.03.2020г сог...           №340    \n",
              "80644   Оплата по договору № 4232 от 17.08.2020 г за э...         № 4232    \n",
              "171317  Оплата 100% за строительные материалы согл дог...        №002/90    \n",
              "6064    Неотложные нужды услуги интернет за март 2020г...  №INET/18-2019    \n",
              "\n",
              "                 Date  \n",
              "163822  от 08.03.2020  \n",
              "113191  от 03.01.2020  \n",
              "44729   от 10.02.2020  \n",
              "150670     25.09.2020  \n",
              "124781  от 08.06.2020  \n",
              "12778   от 15.07.2020  \n",
              "32088   от 29.01.2020  \n",
              "89109   от 02.09.2020  \n",
              "137384     25.01.2020  \n",
              "177451  от 03.08.2020  \n",
              "44133   от 10.03.2020  \n",
              "155791     25.11.2020  \n",
              "35674   от 04.01.2020  \n",
              "80690   от 17.08.2020  \n",
              "63132    с 01.05.2019  \n",
              "162131  от 03.01.2020  \n",
              "43489   от 06.03.2020  \n",
              "80644   от 17.08.2020  \n",
              "171317  от 18.06.2020  \n",
              "6064    от 30.04.2019  "
            ]
          },
          "execution_count": 24,
          "metadata": {},
          "output_type": "execute_result"
        }
      ],
      "source": [
        "df.sample(20)"
      ]
    },
    {
      "cell_type": "code",
      "execution_count": null,
      "metadata": {
        "id": "L4iVfEPZxD8O"
      },
      "outputs": [],
      "source": [
        "dataset = [(row['Text'], (row['ID'], row['Date'])) for index, row in df.iterrows()]\n",
        "dataset"
      ]
    },
    {
      "cell_type": "code",
      "execution_count": null,
      "metadata": {
        "id": "K4U5Q23XVHaQ"
      },
      "outputs": [],
      "source": [
        "TRAIN_DATA = []\n",
        "for text, entity_text in dataset:\n",
        "    entities = []\n",
        "    start = 0\n",
        "    for token in entity_text:\n",
        "        start = text.find(token, start)\n",
        "        end = start + len(token)\n",
        "        if entity_text.index(token) == 0:\n",
        "            label = \"Number\"\n",
        "        else:\n",
        "            label = \"Date\"\n",
        "        entities.append((start, end, label))\n",
        "        start = end\n",
        "    TRAIN_DATA.append({\"text\": text, \"entities\": entities})"
      ]
    },
    {
      "cell_type": "code",
      "execution_count": null,
      "metadata": {
        "colab": {
          "base_uri": "https://localhost:8080/"
        },
        "id": "EIFzSFXS2sF8",
        "outputId": "4dc7fe4b-6d1a-4e5a-9bcd-0706c98604eb"
      },
      "outputs": [
        {
          "data": {
            "text/plain": [
              "197604"
            ]
          },
          "execution_count": 27,
          "metadata": {},
          "output_type": "execute_result"
        }
      ],
      "source": [
        "len(TRAIN_DATA)"
      ]
    },
    {
      "cell_type": "code",
      "execution_count": null,
      "metadata": {
        "colab": {
          "base_uri": "https://localhost:8080/"
        },
        "id": "bv8aOpp0-pWJ",
        "outputId": "7a15fba3-10fd-4b33-e453-d06652723534"
      },
      "outputs": [
        {
          "data": {
            "text/plain": [
              "{'text': 'Оплата 100 % за работы по испытанию в АИЛ  сог-на дог № 890-ИЛ/19 от 27.12.2019 год. Для собс нужд.',\n",
              " 'entities': [(54, 66, 'Number'), (66, 79, 'Date')]}"
            ]
          },
          "execution_count": 28,
          "metadata": {},
          "output_type": "execute_result"
        }
      ],
      "source": [
        "TRAIN_DATA[100]"
      ]
    },
    {
      "cell_type": "code",
      "execution_count": null,
      "metadata": {
        "colab": {
          "base_uri": "https://localhost:8080/"
        },
        "id": "aXudJQsYH-pw",
        "outputId": "8504fe53-1299-412d-ff17-cb7daad21713"
      },
      "outputs": [
        {
          "data": {
            "text/plain": [
              "('Оплата 100 % за работы по испытанию в АИЛ  сог-на дог № 890-ИЛ/19 от 27.12.2019 год. Для собс нужд.',\n",
              " {'entities': [(54, 66, 'Number'), (66, 79, 'Date')]})"
            ]
          },
          "execution_count": 29,
          "metadata": {},
          "output_type": "execute_result"
        }
      ],
      "source": [
        "result_list = []\n",
        "\n",
        "for data in TRAIN_DATA:\n",
        "    text = data['text']\n",
        "    entities = {'entities': data['entities']}\n",
        "    result_list.append((text, entities))\n",
        "\n",
        "result_list\n",
        "result_list[100]"
      ]
    },
    {
      "cell_type": "code",
      "execution_count": null,
      "metadata": {
        "scrolled": true,
        "id": "PW6N-u5dVHaS",
        "outputId": "0dbb4c8c-7178-499a-8080-d1957294538c"
      },
      "outputs": [
        {
          "name": "stdout",
          "output_type": "stream",
          "text": [
            "Training set size: 158083\n",
            "Testing set size: 39521\n"
          ]
        }
      ],
      "source": [
        "import random\n",
        "\n",
        "random.shuffle(result_list)  # Shuffle the data to ensure randomness\n",
        "\n",
        "split_idx = int(len(result_list) * 0.8)  # Calculate the index to split the data at\n",
        "train_data = result_list[:split_idx]    # Assign the first 90% of the data to training set\n",
        "test_data = result_list[split_idx:]     # Assign the remaining 10% of the data to testing set\n",
        "\n",
        "print(\"Training set size:\", len(train_data))\n",
        "print(\"Testing set size:\", len(test_data))"
      ]
    },
    {
      "cell_type": "code",
      "execution_count": null,
      "metadata": {
        "id": "dnYlwoHEg4oZ",
        "outputId": "ed61c6e5-4a7f-4c8e-e7d8-dc50ebf3614b"
      },
      "outputs": [
        {
          "name": "stderr",
          "output_type": "stream",
          "text": [
            "100%|██████████| 158083/158083 [00:39<00:00, 3995.39it/s]\n"
          ]
        },
        {
          "name": "stdout",
          "output_type": "stream",
          "text": [
            "Skipped 1875 entities.\n"
          ]
        }
      ],
      "source": [
        "import pandas as pd\n",
        "import os\n",
        "from tqdm import tqdm\n",
        "import spacy\n",
        "from spacy.tokens import DocBin\n",
        "\n",
        "skipped_entities = 0\n",
        "#nlp = spacy.blank(\"en\") # load a new spacy model\n",
        "nlp = spacy.load(\"en_core_web_sm\") # load other spacy model\n",
        "\n",
        "db = DocBin() # create a DocBin object\n",
        "\n",
        "for text, annot in tqdm(train_data): # data in previous format\n",
        "    doc = nlp.make_doc(text) # create doc object from text\n",
        "    ents = []\n",
        "    for start, end, label in annot[\"entities\"]: # add character indexes\n",
        "        span = doc.char_span(start, end, label=label, alignment_mode=\"contract\")\n",
        "        if span is None:\n",
        "            \n",
        "            skipped_entities += 1 \n",
        "        else:\n",
        "            ents.append(span)\n",
        "    doc.ents = ents # label the text with the ents\n",
        "    db.add(doc)\n",
        "\n",
        "\n",
        "db.to_disk(\"./train.spacy\") # save the docbin objec\n",
        "print(f\"Skipped {skipped_entities} entities.\")"
      ]
    },
    {
      "cell_type": "code",
      "execution_count": null,
      "metadata": {
        "id": "XQ4oRmygVHaT",
        "outputId": "c913a9a6-d609-4132-e312-c6adf458dac7"
      },
      "outputs": [
        {
          "name": "stderr",
          "output_type": "stream",
          "text": [
            "100%|██████████| 39521/39521 [00:11<00:00, 3515.47it/s]\n"
          ]
        },
        {
          "name": "stdout",
          "output_type": "stream",
          "text": [
            "Skipped 479 entities.\n"
          ]
        }
      ],
      "source": [
        "import pandas as pd\n",
        "import os\n",
        "from tqdm import tqdm\n",
        "import spacy\n",
        "from spacy.tokens import DocBin\n",
        "\n",
        "skipped_entities = 0\n",
        "#nlp = spacy.blank(\"en\") # load a new spacy model\n",
        "nlp = spacy.load(\"en_core_web_sm\") # load other spacy model\n",
        "\n",
        "db = DocBin() # create a DocBin object\n",
        "\n",
        "for text, annot in tqdm(test_data): # data in previous format\n",
        "    doc = nlp.make_doc(text) # create doc object from text\n",
        "    ents = []\n",
        "    for start, end, label in annot[\"entities\"]: # add character indexes\n",
        "        span = doc.char_span(start, end, label=label, alignment_mode=\"contract\")\n",
        "        if span is None:\n",
        "            \n",
        "            skipped_entities += 1 \n",
        "        else:\n",
        "            ents.append(span)\n",
        "    doc.ents = ents # label the text with the ents\n",
        "    db.add(doc)\n",
        "\n",
        "\n",
        "db.to_disk(\"./test.spacy\") # save the docbin objec\n",
        "print(f\"Skipped {skipped_entities} entities.\")"
      ]
    },
    {
      "cell_type": "markdown",
      "metadata": {
        "id": "a1TELeStVHaU"
      },
      "source": [
        "https://spacy.io/usage/training#config"
      ]
    },
    {
      "cell_type": "code",
      "execution_count": null,
      "metadata": {
        "id": "wRSQ4rcJVHaV"
      },
      "outputs": [],
      "source": [
        "###run it on anaconda prompt\n",
        "#python -m spacy init fill-config base_config.cfg config.cfg"
      ]
    },
    {
      "cell_type": "code",
      "execution_count": null,
      "metadata": {
        "id": "-PBhM5peVHaV"
      },
      "outputs": [],
      "source": [
        "###run it on anaconda prompt\n",
        "#python -m spacy train config.cfg --output ./output --paths.train ./train.spacy --paths.dev ./test.spacy "
      ]
    },
    {
      "cell_type": "code",
      "execution_count": null,
      "metadata": {
        "id": "YVcRhb23VHaW",
        "outputId": "c3cadd69-cbac-4c0e-aa0d-df7293e51d7f"
      },
      "outputs": [
        {
          "name": "stdout",
          "output_type": "stream",
          "text": [
            "C:\\Users\\Muhammadyusuf\\Name_Extraction\n"
          ]
        }
      ],
      "source": [
        "cd Name_Extraction/"
      ]
    },
    {
      "cell_type": "code",
      "execution_count": null,
      "metadata": {
        "id": "yoeoETjYVHaW",
        "outputId": "c3d0da16-ffa8-4a09-9fd8-9bcd22c7a655"
      },
      "outputs": [
        {
          "data": {
            "text/html": [
              "<span class=\"tex2jax_ignore\"><div class=\"entities\" style=\"line-height: 2.5; direction: ltr\">Зачис средств на спец сч после торгов на УзРВБ по курсу 1$=9535 по кл.ИП АО  согл распр \n",
              "<mark class=\"entity\" style=\"background: #ddd; padding: 0.45em 0.6em; margin: 0 0.25em; line-height: 1; border-radius: 0.35em;\">\n",
              "    № J-102\n",
              "    <span style=\"font-size: 0.8em; font-weight: bold; line-height: 1; border-radius: 0.35em; vertical-align: middle; margin-left: 0.5rem\">Number</span>\n",
              "</mark>\n",
              " \n",
              "<mark class=\"entity\" style=\"background: #bfe1d9; padding: 0.45em 0.6em; margin: 0 0.25em; line-height: 1; border-radius: 0.35em;\">\n",
              "    от 06.01.2020\n",
              "    <span style=\"font-size: 0.8em; font-weight: bold; line-height: 1; border-radius: 0.35em; vertical-align: middle; margin-left: 0.5rem\">Date</span>\n",
              "</mark>\n",
              "</div></span>"
            ],
            "text/plain": [
              "<IPython.core.display.HTML object>"
            ]
          },
          "metadata": {},
          "output_type": "display_data"
        }
      ],
      "source": [
        "import spacy\n",
        "nlp1 = spacy.load(r\".\\output\\model-best\") #load the best model\n",
        "doc = nlp1(\"Зачис средств на спец сч после торгов на УзРВБ по курсу 1$=9535 по кл.ИП АО  согл распр № J-102 от 06.01.2020\") # input sample text\n",
        "\n",
        "spacy.displacy.render(doc, style=\"ent\", jupyter=True) # display in Jupyter"
      ]
    },
    {
      "cell_type": "code",
      "execution_count": null,
      "metadata": {
        "id": "CQxFVqCjVHaW",
        "outputId": "6c1d579b-0f39-4ce9-f50d-d57023eb3dd0"
      },
      "outputs": [
        {
          "name": "stdout",
          "output_type": "stream",
          "text": [
            "№ J-102\n",
            "от 06.01.2020\n"
          ]
        }
      ],
      "source": [
        "for ent in doc.ents:\n",
        "    print(ent.text)"
      ]
    }
  ],
  "metadata": {
    "accelerator": "GPU",
    "colab": {
      "provenance": []
    },
    "gpuClass": "standard",
    "kernelspec": {
      "display_name": "Python 3 (ipykernel)",
      "language": "python",
      "name": "python3"
    },
    "language_info": {
      "codemirror_mode": {
        "name": "ipython",
        "version": 3
      },
      "file_extension": ".py",
      "mimetype": "text/x-python",
      "name": "python",
      "nbconvert_exporter": "python",
      "pygments_lexer": "ipython3",
      "version": "3.9.13"
    }
  },
  "nbformat": 4,
  "nbformat_minor": 0
}